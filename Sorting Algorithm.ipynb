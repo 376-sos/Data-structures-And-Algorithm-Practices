{
 "cells": [
  {
   "cell_type": "markdown",
   "metadata": {},
   "source": [
    "<!DOCTYPE html>\n",
    "<html lang=\"en\">\n",
    "<head>\n",
    "  <meta charset=\"UTF-8\">\n",
    "  <title>Assignment Header</title>\n",
    "  <style>\n",
    "    body {\n",
    "      font-family: Arial, sans-serif;\n",
    "      background:rgb(0, 0, 0);\n",
    "      padding: 20px;\n",
    "    }\n",
    "    .assignment-header {\n",
    "      background: #fff;\n",
    "      border-radius: 12px;\n",
    "      padding: 20px;\n",
    "      box-shadow: 0 2px 10px rgba(0,0,0,0.1);\n",
    "      width:85%;\n",
    "      margin: auto;\n",
    "    }\n",
    "    .info {\n",
    "      margin-bottom: 15px;\n",
    "    }\n",
    "    .info p {\n",
    "      margin: 5px 0;\n",
    "      font-size: 16px;\n",
    "      color:black;\n",
    "    }\n",
    "    .icons a {\n",
    "      text-decoration: none;\n",
    "      margin-right: 15px;\n",
    "      color: #333;\n",
    "      font-size: 15px;\n",
    "      transition: color 0.3s;\n",
    "    }\n",
    "    .icons a:hover {\n",
    "      color: #0077b5;\n",
    "    }\n",
    "  </style>\n",
    "</head>\n",
    "<body>\n",
    "\n",
    "  <div class=\"assignment-header\">\n",
    "    <div class=\"info\">\n",
    "      <p><strong>Name:</strong> Sosina Gizaw</p>\n",
    "      <p><strong>ID No:</strong> DBU 1601629</p>\n",
    "      <p><strong>Department:</strong> Data Science</p>\n",
    "    </div>\n",
    "    <div class=\"icons\">\n",
    "    <a href=\"https://github.com/yourusername\" target=\"_blank\" title=\"GitHub\">\n",
    "        Email\n",
    "      </a>\n",
    "      <a href=\"https://github.com/yourusername\" target=\"_blank\" title=\"GitHub\">\n",
    "        Github\n",
    "      </a>\n",
    "      <a href=\"https://t.me/yourusername\" target=\"_blank\" title=\"Telegram\">\n",
    "        Telegram\n",
    "      </a>\n",
    "    </div>\n",
    "  </div>\n",
    "\n",
    "</body>\n",
    "</html>\n"
   ]
  },
  {
   "cell_type": "markdown",
   "metadata": {},
   "source": [
    "DATASTRCTURE AND ALGORITHEM\n"
   ]
  },
  {
   "cell_type": "code",
   "execution_count": 1,
   "metadata": {},
   "outputs": [],
   "source": [
    "students = [\n",
    "    {'id': 'DBU1500000', 'name': 'Dawit', 'dept': 'DS', 'cgpa': 3.34},\n",
    "    {'id': 'DBU1500002', 'name': 'Abrham', 'dept': 'CS', 'cgpa': 3.12},\n",
    "    {'id': 'DBU1500004', 'name': 'Soliana', 'dept': 'DS', 'cgpa': 2.74},\n",
    "    {'id': 'DBU1500006', 'name': 'Rahel', 'dept': 'CS', 'cgpa': 3.10},\n",
    "    {'id': 'DBU1500008', 'name': 'nebiyat', 'dept': 'IS', 'cgpa': 3.55},\n",
    "    {'id': 'DBU1500001', 'name': 'foziya', 'dept': 'SE', 'cgpa': 3.78},\n",
    "    {'id': 'DBU1500013', 'name': 'aklile', 'dept': 'SE', 'cgpa': 3.62},\n",
    "    {'id': 'DBU1500005', 'name': 'Tigist', 'dept': 'DS', 'cgpa': 2.72},\n",
    "    {'id': 'DBU1500007', 'name': 'tomas', 'dept': 'IT', 'cgpa': 2.85},\n",
    "    {'id': 'DBU1500009', 'name': 'eliab', 'dept': 'IT', 'cgpa': 3.31}\n",
    "    \n",
    "]"
   ]
  },
  {
   "cell_type": "markdown",
   "metadata": {},
   "source": []
  },
  {
   "cell_type": "markdown",
   "metadata": {},
   "source": [
    "BUBBLE SORT is done by swapping adjacent elements frequently till they get right order. based on this we can sort the list of students dictionaries by Id as follow."
   ]
  },
  {
   "cell_type": "code",
   "execution_count": 2,
   "metadata": {},
   "outputs": [
    {
     "name": "stdout",
     "output_type": "stream",
     "text": [
      "Students sorted by ID (Bubble Sort):\n",
      "{'id': 'DBU1500000', 'name': 'Dawit', 'dept': 'DS', 'cgpa': 3.34}\n",
      "{'id': 'DBU1500001', 'name': 'foziya', 'dept': 'SE', 'cgpa': 3.78}\n",
      "{'id': 'DBU1500002', 'name': 'Abrham', 'dept': 'CS', 'cgpa': 3.12}\n",
      "{'id': 'DBU1500004', 'name': 'Soliana', 'dept': 'DS', 'cgpa': 2.74}\n",
      "{'id': 'DBU1500005', 'name': 'Tigist', 'dept': 'DS', 'cgpa': 2.72}\n",
      "{'id': 'DBU1500006', 'name': 'Rahel', 'dept': 'CS', 'cgpa': 3.1}\n",
      "{'id': 'DBU1500007', 'name': 'tomas', 'dept': 'IT', 'cgpa': 2.85}\n",
      "{'id': 'DBU1500008', 'name': 'nebiyat', 'dept': 'IS', 'cgpa': 3.55}\n",
      "{'id': 'DBU1500009', 'name': 'eliab', 'dept': 'IT', 'cgpa': 3.31}\n",
      "{'id': 'DBU1500013', 'name': 'aklile', 'dept': 'SE', 'cgpa': 3.62}\n"
     ]
    }
   ],
   "source": [
    "def bubble_sort_by_id(student_list):\n",
    "    n = len(student_list)\n",
    "    for i in range(n):\n",
    "        for j in range(0, n-i-1):\n",
    "            if student_list[j]['id'] > student_list[j+1]['id']:\n",
    "                student_list[j], student_list[j+1] = student_list[j+1], student_list[j]\n",
    "    return student_list\n",
    "\n",
    "# Test the function\n",
    "sorted_by_id = bubble_sort_by_id(students.copy())\n",
    "print(\"Students sorted by ID (Bubble Sort):\")\n",
    "for student in sorted_by_id:\n",
    "    print(student)"
   ]
  },
  {
   "cell_type": "markdown",
   "metadata": {},
   "source": []
  },
  {
   "cell_type": "markdown",
   "metadata": {},
   "source": [
    "INSEARTION SORT is builds the final sorted array one element at a time.from this point of view we can sort the name of student s alphabetically by using insertion ."
   ]
  },
  {
   "cell_type": "code",
   "execution_count": 3,
   "metadata": {},
   "outputs": [
    {
     "name": "stdout",
     "output_type": "stream",
     "text": [
      "\n",
      "Students sorted by Name (Insertion Sort):\n",
      "{'id': 'DBU1500002', 'name': 'Abrham', 'dept': 'CS', 'cgpa': 3.12}\n",
      "{'id': 'DBU1500000', 'name': 'Dawit', 'dept': 'DS', 'cgpa': 3.34}\n",
      "{'id': 'DBU1500006', 'name': 'Rahel', 'dept': 'CS', 'cgpa': 3.1}\n",
      "{'id': 'DBU1500004', 'name': 'Soliana', 'dept': 'DS', 'cgpa': 2.74}\n",
      "{'id': 'DBU1500005', 'name': 'Tigist', 'dept': 'DS', 'cgpa': 2.72}\n",
      "{'id': 'DBU1500013', 'name': 'aklile', 'dept': 'SE', 'cgpa': 3.62}\n",
      "{'id': 'DBU1500009', 'name': 'eliab', 'dept': 'IT', 'cgpa': 3.31}\n",
      "{'id': 'DBU1500001', 'name': 'foziya', 'dept': 'SE', 'cgpa': 3.78}\n",
      "{'id': 'DBU1500008', 'name': 'nebiyat', 'dept': 'IS', 'cgpa': 3.55}\n",
      "{'id': 'DBU1500007', 'name': 'tomas', 'dept': 'IT', 'cgpa': 2.85}\n"
     ]
    }
   ],
   "source": [
    "def insertion_sort_by_name(student_list):\n",
    "    for i in range(1, len(student_list)):\n",
    "        key = student_list[i]\n",
    "        j = i-1\n",
    "        while j >= 0 and key['name'] < student_list[j]['name']:\n",
    "            student_list[j+1] = student_list[j]\n",
    "            j -= 1\n",
    "        student_list[j+1] = key\n",
    "    return student_list\n",
    "\n",
    "# Test the function\n",
    "sorted_by_name = insertion_sort_by_name(students.copy())\n",
    "print(\"\\nStudents sorted by Name (Insertion Sort):\")\n",
    "for student in sorted_by_name:\n",
    "    print(student)"
   ]
  },
  {
   "cell_type": "markdown",
   "metadata": {},
   "source": []
  },
  {
   "cell_type": "markdown",
   "metadata": {},
   "source": [
    "SELECTION SORT is comparsion based algorithm that done by repeatdly finding the minimum (or maximum) elemenet from unsorted part of the list. upon this let us sort studentes by their GPA USING SELECTION SORTHING."
   ]
  },
  {
   "cell_type": "code",
   "execution_count": 4,
   "metadata": {},
   "outputs": [
    {
     "name": "stdout",
     "output_type": "stream",
     "text": [
      "\n",
      "Students sorted by CGPA (Selection Sort - Descending):\n",
      "{'id': 'DBU1500001', 'name': 'foziya', 'dept': 'SE', 'cgpa': 3.78}\n",
      "{'id': 'DBU1500013', 'name': 'aklile', 'dept': 'SE', 'cgpa': 3.62}\n",
      "{'id': 'DBU1500008', 'name': 'nebiyat', 'dept': 'IS', 'cgpa': 3.55}\n",
      "{'id': 'DBU1500000', 'name': 'Dawit', 'dept': 'DS', 'cgpa': 3.34}\n",
      "{'id': 'DBU1500009', 'name': 'eliab', 'dept': 'IT', 'cgpa': 3.31}\n",
      "{'id': 'DBU1500002', 'name': 'Abrham', 'dept': 'CS', 'cgpa': 3.12}\n",
      "{'id': 'DBU1500006', 'name': 'Rahel', 'dept': 'CS', 'cgpa': 3.1}\n",
      "{'id': 'DBU1500007', 'name': 'tomas', 'dept': 'IT', 'cgpa': 2.85}\n",
      "{'id': 'DBU1500004', 'name': 'Soliana', 'dept': 'DS', 'cgpa': 2.74}\n",
      "{'id': 'DBU1500005', 'name': 'Tigist', 'dept': 'DS', 'cgpa': 2.72}\n"
     ]
    }
   ],
   "source": [
    "def selection_sort_by_cgpa(student_list):\n",
    "    for i in range(len(student_list)):\n",
    "        max_idx = i\n",
    "        for j in range(i+1, len(student_list)):\n",
    "            if student_list[j]['cgpa'] > student_list[max_idx]['cgpa']:\n",
    "                max_idx = j\n",
    "        student_list[i], student_list[max_idx] = student_list[max_idx], student_list[i]\n",
    "    return student_list\n",
    "\n",
    "# Test the function\n",
    "sorted_by_cgpa = selection_sort_by_cgpa(students.copy())\n",
    "print(\"\\nStudents sorted by CGPA (Selection Sort - Descending):\")\n",
    "for student in sorted_by_cgpa:\n",
    "    print(student)"
   ]
  },
  {
   "cell_type": "markdown",
   "metadata": {},
   "source": [
    "<sub>\n",
    "\n",
    "### PERFORMANCE ANALYSIS  \n",
    "#### TIME COMPLEXITY ANALYSIS:\n",
    "\n",
    "- **Bubble Sort**:  \n",
    "  - Worst & Average Case: O(n²)  \n",
    "  - Best Case: O(n)\n",
    "\n",
    "- **Insertion Sort**:  \n",
    "  - Worst & Average Case: O(n²)  \n",
    "  - Best Case: O(n)\n",
    "\n",
    "- **Selection Sort**:  \n",
    "  - All Cases: O(n²) (No best case)\n",
    "### ADVANTAGES AND DISADVANTAGES FOR SORTING DICTIONARY DATA:\n",
    "\n",
    "- **Bubble Sort**  \n",
    "  - *Advantages:*  \n",
    "    - Easy to implement  \n",
    "    - Good for small datasets  \n",
    "  - *Disadvantages:*  \n",
    "    - Inefficient for large datasets  \n",
    "    - Many unnecessary swaps even when data is partially sorted\n",
    "\n",
    "- **Insertion Sort**  \n",
    "  - *Advantages:*  \n",
    "    - Efficient for small datasets  \n",
    "    - It is a stable sort  \n",
    "  - *Disadvantages:*  \n",
    "    - Many shifts required for elements\n",
    "\n",
    "- **Selection Sort**  \n",
    "  - *Advantages:*  \n",
    "    - Low memory usage  \n",
    "    - Performs a minimum number of swaps  \n",
    "  - *Disadvantages:*  \n",
    "    - Not stable  \n",
    "    - O(n²) complexity in all cases\n",
    "\n",
    "</sub>\n"
   ]
  }
 ],
 "metadata": {
  "kernelspec": {
   "display_name": "Python 3",
   "language": "python",
   "name": "python3"
  },
  "language_info": {
   "codemirror_mode": {
    "name": "ipython",
    "version": 3
   },
   "file_extension": ".py",
   "mimetype": "text/x-python",
   "name": "python",
   "nbconvert_exporter": "python",
   "pygments_lexer": "ipython3",
   "version": "3.11.9"
  }
 },
 "nbformat": 4,
 "nbformat_minor": 2
}
